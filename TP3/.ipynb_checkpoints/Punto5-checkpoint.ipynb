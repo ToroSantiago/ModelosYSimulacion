{
 "cells": [
  {
   "cell_type": "code",
   "execution_count": 1,
   "id": "5e53a17a-32ee-48f3-bd26-5170702c29ce",
   "metadata": {},
   "outputs": [
    {
     "name": "stdout",
     "output_type": "stream",
     "text": [
      "Estadísticas de la muestra:\n",
      "- Media: 5.0580\n",
      "- Desviación estándar: 2.9376\n",
      "- Tamaño de la muestra: 1000\n",
      "\n",
      "Intervalo de confianza al 99% (z=2.58):\n",
      "- Límite inferior: 4.8183\n",
      "- Límite superior: 5.2977\n",
      "- Interpretación: Con un 99% de confianza, la media poblacional μ está entre 4.8183 y 5.2977\n"
     ]
    }
   ],
   "source": [
    "import numpy as np\n",
    "import matplotlib.pyplot as plt\n",
    "from scipy import stats\n",
    "\n",
    "np.random.seed(42)\n",
    "\n",
    "# Generar muestra de 1000 valores con distribución Normal(5, 3)\n",
    "muestra = np.random.normal(loc=5, scale=3, size=1000)\n",
    "\n",
    "# Función para calcular el intervalo de confianza\n",
    "def calcular_intervalo_confianza(datos):\n",
    "    \n",
    "    media_muestral = np.mean(datos)\n",
    "    desviacion_estandar = np.std(datos, ddof=1)\n",
    "    n = len(datos)\n",
    "    \n",
    "    z = 2.58\n",
    "    \n",
    "    error_estandar = desviacion_estandar / np.sqrt(n)\n",
    "    \n",
    "    # Calcular limites del intervalo\n",
    "    limite_inferior = media_muestral - z * error_estandar\n",
    "    limite_superior = media_muestral + z * error_estandar\n",
    "    \n",
    "    return limite_inferior, limite_superior\n",
    "\n",
    "media_muestral = np.mean(muestra)\n",
    "desv_est_muestral = np.std(muestra, ddof=1)\n",
    "tamano_muestra = len(muestra)\n",
    "\n",
    "# Calcular intervalo de confianza con z=2.58 (para 99% de confianza)\n",
    "limite_inferior, limite_superior = calcular_intervalo_confianza(muestra)\n",
    "\n",
    "print(f\"Estadísticas de la muestra:\")\n",
    "print(f\"- Media: {media_muestral:.4f}\")\n",
    "print(f\"- Desviación estándar: {desv_est_muestral:.4f}\")\n",
    "print(f\"- Tamaño de la muestra: {tamano_muestra}\")\n",
    "print(f\"\\nIntervalo de confianza al 99% (z=2.58):\")\n",
    "print(f\"- Límite inferior: {limite_inferior:.4f}\")\n",
    "print(f\"- Límite superior: {limite_superior:.4f}\")\n",
    "print(f\"- Interpretación: Con un 99% de confianza, la media poblacional μ está entre {limite_inferior:.4f} y {limite_superior:.4f}\")\n"
   ]
  },
  {
   "cell_type": "code",
   "execution_count": null,
   "id": "a9119984-aca2-47b8-931d-c4f6dce98352",
   "metadata": {},
   "outputs": [],
   "source": []
  }
 ],
 "metadata": {
  "kernelspec": {
   "display_name": "Python 3 (ipykernel)",
   "language": "python",
   "name": "python3"
  },
  "language_info": {
   "codemirror_mode": {
    "name": "ipython",
    "version": 3
   },
   "file_extension": ".py",
   "mimetype": "text/x-python",
   "name": "python",
   "nbconvert_exporter": "python",
   "pygments_lexer": "ipython3",
   "version": "3.13.2"
  }
 },
 "nbformat": 4,
 "nbformat_minor": 5
}
